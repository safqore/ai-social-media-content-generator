{
 "cells": [
  {
   "cell_type": "code",
   "execution_count": 3,
   "id": "f3884829-a0ae-46a0-bb6a-ae7ebda30dfd",
   "metadata": {},
   "outputs": [
    {
     "name": "stdout",
     "output_type": "stream",
     "text": [
      "This notebook will aid with proof of concepts!\n"
     ]
    }
   ],
   "source": [
    "print(\"This notebook will aid with proof of concepts!\")"
   ]
  },
  {
   "cell_type": "code",
   "execution_count": null,
   "id": "dd602529-f8fd-4269-bd27-c5a5dcd947bc",
   "metadata": {},
   "outputs": [],
   "source": []
  },
  {
   "cell_type": "code",
   "execution_count": null,
   "id": "fa30cb92-9f82-4713-b23f-375f68f87d5a",
   "metadata": {},
   "outputs": [],
   "source": []
  }
 ],
 "metadata": {
  "kernelspec": {
   "display_name": "Python 3 (ipykernel)",
   "language": "python",
   "name": "python3"
  },
  "language_info": {
   "codemirror_mode": {
    "name": "ipython",
    "version": 3
   },
   "file_extension": ".py",
   "mimetype": "text/x-python",
   "name": "python",
   "nbconvert_exporter": "python",
   "pygments_lexer": "ipython3",
   "version": "3.12.4"
  }
 },
 "nbformat": 4,
 "nbformat_minor": 5
}
