{
 "cells": [
  {
   "cell_type": "code",
   "execution_count": 1,
   "id": "f3884829-a0ae-46a0-bb6a-ae7ebda30dfd",
   "metadata": {},
   "outputs": [
    {
     "name": "stderr",
     "output_type": "stream",
     "text": [
      "[nltk_data] Downloading package stopwords to /root/nltk_data...\n",
      "[nltk_data]   Package stopwords is already up-to-date!\n",
      "[nltk_data] Downloading package wordnet to /root/nltk_data...\n",
      "[nltk_data]   Package wordnet is already up-to-date!\n"
     ]
    }
   ],
   "source": [
    "# Setup and Import Libraries\n",
    "import pandas as pd\n",
    "import numpy as np\n",
    "import re\n",
    "import nltk\n",
    "from sklearn.model_selection import train_test_split\n",
    "from sklearn.feature_extraction.text import TfidfVectorizer\n",
    "from sklearn.ensemble import RandomForestClassifier\n",
    "from sklearn.linear_model import LogisticRegression\n",
    "from sklearn.metrics import accuracy_score, classification_report, confusion_matrix\n",
    "import matplotlib.pyplot as plt\n",
    "import seaborn as sns\n",
    "\n",
    "# Downloading NLTK resources\n",
    "nltk.download('stopwords')\n",
    "nltk.download('wordnet')\n",
    "\n",
    "# Setting the style for seaborn\n",
    "sns.set(style='whitegrid')\n",
    "\n",
    "# To suppress warnings\n",
    "%matplotlib inline\n",
    "import warnings\n",
    "warnings.filterwarnings('ignore')"
   ]
  },
  {
   "cell_type": "code",
   "execution_count": 2,
   "id": "cf89462b-9de8-4817-b278-4da3f4975ebd",
   "metadata": {},
   "outputs": [],
   "source": [
    "# Step 2: Load the b Dataset\n",
    "train = pd.read_csv('./../data/sentimet-analysis/train.csv')\n",
    "test = pd.read_csv('./../data/sentimet-analysis/test.csv')"
   ]
  },
  {
   "cell_type": "code",
   "execution_count": 3,
   "id": "0cf2f655-ca5e-41e4-b22c-14802759e72c",
   "metadata": {},
   "outputs": [
    {
     "name": "stdout",
     "output_type": "stream",
     "text": [
      "Training Dataset:\n",
      "   Id                                               Body Sentiment Type\n",
      "0   1  rule 2 no metes about polarizing political top...        neutral\n",
      "1   2                                                NaN        neutral\n",
      "2   3  no politics danger now i can make a propaganda...       negative\n",
      "3   4                       i am the senate gets stabbed        neutral\n",
      "4   5                                  is this a suicide        neutral\n",
      "\n",
      "Test Dataset:\n",
      "   Id                                               Body\n",
      "0   1  rule 2 no metes about polarizing political top...\n",
      "1   2                                                NaN\n",
      "2   3  no politics danger now i can make a propaganda...\n",
      "3   4                       i am the senate gets stabbed\n",
      "4   5                                  is this a suicide\n"
     ]
    }
   ],
   "source": [
    "# Display first few rows of the both data\n",
    "print(\"Training Dataset:\")\n",
    "print(train.head())\n",
    "print(\"\\nTest Dataset:\")\n",
    "print(test.head())"
   ]
  },
  {
   "cell_type": "code",
   "execution_count": 4,
   "id": "61e4bf26-7a32-4575-a84f-8d10816a7f78",
   "metadata": {},
   "outputs": [
    {
     "data": {
      "text/plain": [
       "Id                  0\n",
       "Body              228\n",
       "Sentiment Type      0\n",
       "dtype: int64"
      ]
     },
     "execution_count": 4,
     "metadata": {},
     "output_type": "execute_result"
    }
   ],
   "source": [
    "#Missing Values in Training Dataset\n",
    "train.isnull().sum()"
   ]
  },
  {
   "cell_type": "code",
   "execution_count": 5,
   "id": "15f56c18-54e1-4fac-9754-a9584859db91",
   "metadata": {},
   "outputs": [
    {
     "data": {
      "text/plain": [
       "Sentiment Type\n",
       "neutral     1010\n",
       "positive     632\n",
       "negative     358\n",
       "Name: count, dtype: int64"
      ]
     },
     "execution_count": 5,
     "metadata": {},
     "output_type": "execute_result"
    }
   ],
   "source": [
    "# Class distribution\n",
    "train['Sentiment Type'].value_counts()"
   ]
  },
  {
   "cell_type": "code",
   "execution_count": 6,
   "id": "3723c64e-352f-468a-9b6a-b438cd440273",
   "metadata": {},
   "outputs": [
    {
     "data": {
      "image/png": "[encoded data removed]",
      "text/plain": [
       "<Figure size 600x400 with 1 Axes>"
      ]
     },
     "metadata": {},
     "output_type": "display_data"
    }
   ],
   "source": [
    "# Plotting class distribution\n",
    "plt.figure(figsize=(6, 4))\n",
    "sns.countplot(data=train, x='Sentiment Type', palette='viridis')\n",
    "plt.title('Sentiment Type Distribution')\n",
    "plt.xlabel('Sentiment Type')\n",
    "plt.ylabel('Count')\n",
    "plt.show()"
   ]
  },
  {
   "cell_type": "code",
   "execution_count": 7,
   "id": "9e92fc33-aad8-4ed4-b048-d8b6838118d5",
   "metadata": {},
   "outputs": [],
   "source": [
    "# Drop rows where any column has missing values\n",
    "train= train.dropna()\n",
    "test=test.dropna()\n",
    "# Drop rows where specific column(s) have missing values\n",
    "train=train.dropna(subset=['Body'])\n",
    "test=test.dropna(subset=['Body'])"
   ]
  },
  {
   "cell_type": "code",
   "execution_count": 8,
   "id": "69bfd285-e444-46be-a922-ad6480c26a46",
   "metadata": {},
   "outputs": [
    {
     "data": {
      "text/plain": [
       "' import nltk\\nnltk.data.path.append(\\'/usr/share/nltk_data\\')\\nnltk.download(\\'wordnet\\', download_dir=\\'/usr/share/nltk_data\\')\\n\\n\\nfrom nltk.corpus import stopwords\\nfrom nltk.stem import WordNetLemmatizer\\n\\nstop_words = set(stopwords.words(\\'english\\'))\\nlemmatizer = WordNetLemmatizer()\\n\\ndef clean_text(text):\\n    if isinstance(text, str):\\n        text = text.lower()  # Convert to lowercase\\n        text = re.sub(r\\'<[^>]*>\\', \\'\\', text)  # Remove HTML tags\\n        text = re.sub(r\\'[^a-zA-Z\\\\s]\\', \\'\\', text)  # Remove punctuation\\n        text = \\' \\'.join([lemmatizer.lemmatize(word) for word in text.split() if word not in stop_words])  # Lemmatize and remove stopwords\\n    else:\\n        text = \\'\\'\\n    return text\\n\\n# Apply text cleaning\\ntrain[\\'Body\\'] = train[\\'Body\\'].apply(clean_text)\\ntest[\\'Body\\'] =test[\\'Body\\'].apply(clean_text)\\n\\n# Display the cleaned text\\nprint(\"\\nCleaned Text in Training Data:\")\\nprint(train[\\'Body\\'].head())\\n\\n'"
      ]
     },
     "execution_count": 8,
     "metadata": {},
     "output_type": "execute_result"
    }
   ],
   "source": [
    "# Step 4: Data Cleaning and Preprocessing\n",
    "\"\"\" import nltk\n",
    "nltk.data.path.append('/usr/share/nltk_data')\n",
    "nltk.download('wordnet', download_dir='/usr/share/nltk_data')\n",
    "\n",
    "\n",
    "from nltk.corpus import stopwords\n",
    "from nltk.stem import WordNetLemmatizer\n",
    "\n",
    "stop_words = set(stopwords.words('english'))\n",
    "lemmatizer = WordNetLemmatizer()\n",
    "\n",
    "def clean_text(text):\n",
    "    if isinstance(text, str):\n",
    "        text = text.lower()  # Convert to lowercase\n",
    "        text = re.sub(r'<[^>]*>', '', text)  # Remove HTML tags\n",
    "        text = re.sub(r'[^a-zA-Z\\s]', '', text)  # Remove punctuation\n",
    "        text = ' '.join([lemmatizer.lemmatize(word) for word in text.split() if word not in stop_words])  # Lemmatize and remove stopwords\n",
    "    else:\n",
    "        text = ''\n",
    "    return text\n",
    "\n",
    "# Apply text cleaning\n",
    "train['Body'] = train['Body'].apply(clean_text)\n",
    "test['Body'] =test['Body'].apply(clean_text)\n",
    "\n",
    "# Display the cleaned text\n",
    "print(\"\\nCleaned Text in Training Data:\")\n",
    "print(train['Body'].head())\n",
    "\n",
    "\"\"\""
   ]
  },
  {
   "cell_type": "code",
   "execution_count": 9,
   "id": "4b84577b-5329-4c5b-aa66-f6b1888af3f2",
   "metadata": {},
   "outputs": [
    {
     "name": "stdout",
     "output_type": "stream",
     "text": [
      "\n",
      "TF-IDF feature matrix shape for training data: (1772, 5000)\n",
      "TF-IDF feature matrix shape for test data: (1772, 5000)\n"
     ]
    }
   ],
   "source": [
    "# Feature Extraction using TF-IDF\n",
    "\n",
    "tfidf_vectorizer = TfidfVectorizer(max_features=5000, ngram_range=(1, 2))\n",
    "X_train_tfidf = tfidf_vectorizer.fit_transform(train['Body'])\n",
    "X_test_tfidf = tfidf_vectorizer.transform(test['Body'])\n",
    "\n",
    "# Show the shape of transformed data\n",
    "print(\"\\nTF-IDF feature matrix shape for training data:\", X_train_tfidf.shape)\n",
    "print(\"TF-IDF feature matrix shape for test data:\", X_test_tfidf.shape)"
   ]
  },
  {
   "cell_type": "code",
   "execution_count": 10,
   "id": "197bad38-3619-46e2-9382-685088394341",
   "metadata": {},
   "outputs": [],
   "source": [
    "#Model Training\n",
    "\n",
    "# Target variable\n",
    "y_train = train['Sentiment Type']\n",
    "\n",
    "# Initialize and train logistic regression model\n",
    "#model = RandomForestClassifier()\n",
    "model = LogisticRegression(max_iter=1000, random_state=42)\n",
    "model.fit(X_train_tfidf, y_train)\n",
    "\n",
    "# Predict on the training data to see initial accuracy\n",
    "y_train_pred = model.predict(X_train_tfidf)"
   ]
  },
  {
   "cell_type": "code",
   "execution_count": 11,
   "id": "f2bc8ef5-2381-4b26-8f14-4aafa2b4b21f",
   "metadata": {},
   "outputs": [
    {
     "name": "stdout",
     "output_type": "stream",
     "text": [
      "\n",
      "Training Accuracy: 0.912528216704289\n",
      "\n",
      "Classification Report on Training Data:\n",
      "              precision    recall  f1-score   support\n",
      "\n",
      "    negative       0.99      0.70      0.82       358\n",
      "     neutral       0.88      0.98      0.93       782\n",
      "    positive       0.92      0.95      0.94       632\n",
      "\n",
      "    accuracy                           0.91      1772\n",
      "   macro avg       0.93      0.88      0.89      1772\n",
      "weighted avg       0.92      0.91      0.91      1772\n",
      "\n"
     ]
    }
   ],
   "source": [
    "# Model evaluation\n",
    "print(\"\\nTraining Accuracy:\", accuracy_score(y_train, y_train_pred))\n",
    "print(\"\\nClassification Report on Training Data:\")\n",
    "print(classification_report(y_train, y_train_pred))"
   ]
  },
  {
   "cell_type": "code",
   "execution_count": 12,
   "id": "6e38ec09-c923-4b70-8450-d5f311c64d5b",
   "metadata": {},
   "outputs": [
    {
     "data": {
      "image/png": "[encoded data removed]",
      "text/plain": [
       "<Figure size 1000x800 with 1 Axes>"
      ]
     },
     "metadata": {},
     "output_type": "display_data"
    }
   ],
   "source": [
    "# Get feature names from the TF-IDF vectorizer\n",
    "feature_names = tfidf_vectorizer.get_feature_names_out()\n",
    "coefficients = model.coef_[0] \n",
    "\n",
    "# Create a DataFrame to hold feature names and their importance\n",
    "feature_importance = pd.DataFrame({\n",
    "    'Feature': feature_names,\n",
    "    'Importance': np.abs(coefficients) \n",
    "})\n",
    "# Sort by importance\n",
    "feature_importance = feature_importance.sort_values(by='Importance', ascending=False)\n",
    "\n",
    "\n",
    "# Select the top 20 features\n",
    "top_features = feature_importance.head(20)\n",
    "#plot important feature\n",
    "plt.figure(figsize=(10, 8))\n",
    "plt.barh(top_features['Feature'], top_features['Importance'], color='skyblue')\n",
    "plt.xlabel('Importance')\n",
    "plt.title('Top 20 Features by Importance')\n",
    "plt.gca().invert_yaxis()  # To display the highest importance at the top\n",
    "plt.show()"
   ]
  },
  {
   "cell_type": "code",
   "execution_count": 13,
   "id": "a19aa43b-7e59-4344-83c9-46594f2f8bc4",
   "metadata": {},
   "outputs": [],
   "source": [
    "# Predict on test data\n",
    "y_test_pred = model.predict(X_test_tfidf)\n",
    "\n",
    "# Create a DataFrame for the test predictions\n",
    "test_results = test.copy()\n",
    "test_results['Sentiment Type'] = y_test_pred\n",
    "\n",
    "# Save the predictions to a CSV file\n",
    "test_results[['Id', 'Body', 'Sentiment Type']].to_csv('test_predictions.csv', index=False)"
   ]
  },
  {
   "cell_type": "code",
   "execution_count": 14,
   "id": "f81e2481-db8d-45ee-a8af-6975222e32d5",
   "metadata": {},
   "outputs": [
    {
     "data": {
      "text/plain": [
       "['tfidf_vectorizer.pkl']"
      ]
     },
     "execution_count": 14,
     "metadata": {},
     "output_type": "execute_result"
    }
   ],
   "source": [
    "import joblib\n",
    "\n",
    "\n",
    "# model = trained logistic regression model\n",
    "# tfidf = trained TF-IDF vectorizer\n",
    "\n",
    "# Save the model and the TF-IDF vectorizer\n",
    "joblib.dump(model, 'sentiment_model.pkl')\n",
    "joblib.dump(tfidf_vectorizer, 'tfidf_vectorizer.pkl')\n"
   ]
  }
 ],
 "metadata": {
  "kernelspec": {
   "display_name": "Python 3 (ipykernel)",
   "language": "python",
   "name": "python3"
  },
  "language_info": {
   "codemirror_mode": {
    "name": "ipython",
    "version": 3
   },
   "file_extension": ".py",
   "mimetype": "text/x-python",
   "name": "python",
   "nbconvert_exporter": "python",
   "pygments_lexer": "ipython3",
   "version": "3.12.4"
  }
 },
 "nbformat": 4,
 "nbformat_minor": 5
}
